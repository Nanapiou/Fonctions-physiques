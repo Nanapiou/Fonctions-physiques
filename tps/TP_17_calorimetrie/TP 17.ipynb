{
 "cells": [
  {
   "cell_type": "markdown",
   "metadata": {},
   "source": [
    "# Calorimétrie et transition de phase"
   ]
  },
  {
   "cell_type": "markdown",
   "metadata": {},
   "source": [
    "## Valeur en eau d'un calorimètre"
   ]
  },
  {
   "cell_type": "markdown",
   "metadata": {},
   "source": [
    "$$\n",
    "\\Delta H= (m_f+\\mu)c_e(T_F-T_f) + m_cc_e(T_F-T_c) = 0\n",
    "$$\n",
    "\n",
    "Donc\n",
    "\n",
    "$$\n",
    "\\mu = -m_c\\dfrac{T_F-T_c}{T_F-T_f} - m_f\n",
    "$$"
   ]
  },
  {
   "cell_type": "markdown",
   "metadata": {},
   "source": [
    "__Protocole:__\n",
    "\n",
    "On met une masse d'eau froide dans le calorimètre ($\\text{~}23°C$).\n",
    "\n",
    "On ajoute de l'eau chaude, d'une masse proche de celle de l'eau froide pour gagner en précision sur le résultat ($85°C$).\n",
    "\n",
    "On attend l'équilibre de température, et on la mesure.\n",
    "\n",
    "On en déduit la masse équivalente en eau au calorimètre."
   ]
  },
  {
   "cell_type": "code",
   "execution_count": 1,
   "metadata": {
    "ExecuteTime": {
     "end_time": "2024-04-10T16:55:04.585408Z",
     "start_time": "2024-04-10T16:55:04.583160Z"
    },
    "collapsed": true,
    "jupyter": {
     "outputs_hidden": true
    }
   },
   "outputs": [],
   "source": [
    "K = 273.15\n",
    "Tc = 85 + K\n",
    "TF = 51 + K\n",
    "Tf = 24.3 + K\n",
    "mf = 151.2\n",
    "mc = 163.7\n",
    "\n",
    "mu = -mf - mc * (TF - Tc) / (TF - Tf)"
   ]
  },
  {
   "cell_type": "code",
   "execution_count": 2,
   "metadata": {
    "ExecuteTime": {
     "end_time": "2024-04-10T16:55:04.607060Z",
     "start_time": "2024-04-10T16:55:04.604190Z"
    }
   },
   "outputs": [
    {
     "data": {
      "text/plain": [
       "57.25692883895138"
      ]
     },
     "execution_count": 2,
     "metadata": {},
     "output_type": "execute_result"
    }
   ],
   "source": [
    "mu"
   ]
  },
  {
   "cell_type": "markdown",
   "metadata": {},
   "source": [
    "## Détermination de la chaleur latente de fusion de la glace"
   ]
  },
  {
   "cell_type": "markdown",
   "metadata": {},
   "source": [
    "$$\n",
    "\\Delta H = \\Delta H_{fus} + \\Delta H_a + \\Delta H_g = m_g l_{fus} + m_ac_e(T_F-T_a)+m_gc_e(T_F-T_g)=0\n",
    "$$\n",
    "\n",
    "D'où\n",
    "\n",
    "$$\n",
    "l_{fus} = \\dfrac{m_ac_e(T_a-T_F)+m_gc_e(T_g-T_F)}{m_g}\n",
    "$$"
   ]
  },
  {
   "cell_type": "markdown",
   "metadata": {},
   "source": [
    "Un protocole quasi similaire à celui vu précédemment."
   ]
  },
  {
   "cell_type": "code",
   "execution_count": 3,
   "metadata": {
    "ExecuteTime": {
     "end_time": "2024-04-10T16:55:04.634035Z",
     "start_time": "2024-04-10T16:55:04.629976Z"
    }
   },
   "outputs": [],
   "source": [
    "me = 202.7+ 103.8 + 106 # eau froide\n",
    "ma = me + mu # masse \"ambiante\"\n",
    "ce = 4.18 # ceau\n",
    "Ta = 23.4 + K # ambiante\n",
    "TF = 15.4 + K # finale\n",
    "Tg = 0 + K # glace\n",
    "mg = 42.1 # masse glaçons\n",
    "\n",
    "lfus = (ma * ce * (Ta - TF) + mg * ce * (Tg - TF)) / mg"
   ]
  },
  {
   "cell_type": "code",
   "execution_count": 4,
   "metadata": {
    "ExecuteTime": {
     "end_time": "2024-04-10T16:55:04.645280Z",
     "start_time": "2024-04-10T16:55:04.641801Z"
    }
   },
   "outputs": [
    {
     "data": {
      "text/plain": [
       "308.75559383312435"
      ]
     },
     "execution_count": 4,
     "metadata": {},
     "output_type": "execute_result"
    }
   ],
   "source": [
    "lfus"
   ]
  }
 ],
 "metadata": {
  "kernelspec": {
   "display_name": "Python 3 (ipykernel)",
   "language": "python",
   "name": "python3"
  },
  "language_info": {
   "codemirror_mode": {
    "name": "ipython",
    "version": 3
   },
   "file_extension": ".py",
   "mimetype": "text/x-python",
   "name": "python",
   "nbconvert_exporter": "python",
   "pygments_lexer": "ipython3",
   "version": "3.11.2"
  }
 },
 "nbformat": 4,
 "nbformat_minor": 4
}
